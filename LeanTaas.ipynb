{
 "cells": [
  {
   "cell_type": "code",
   "execution_count": 3,
   "id": "palestinian-commitment",
   "metadata": {},
   "outputs": [],
   "source": [
    "# Importing dependencies\n",
    "import pandas as pd\n",
    "#import numpy as np"
   ]
  },
  {
   "cell_type": "code",
   "execution_count": 2,
   "id": "analyzed-conditioning",
   "metadata": {},
   "outputs": [
    {
     "name": "stdout",
     "output_type": "stream",
     "text": [
      "Collecting pandas\n",
      "  Downloading pandas-1.1.5-cp36-cp36m-macosx_10_9_x86_64.whl (10.2 MB)\n",
      "\u001b[K     |████████████████████████████████| 10.2 MB 2.5 MB/s eta 0:00:01\n",
      "\u001b[?25hCollecting pytz>=2017.2\n",
      "  Downloading pytz-2021.1-py2.py3-none-any.whl (510 kB)\n",
      "\u001b[K     |████████████████████████████████| 510 kB 7.6 MB/s eta 0:00:01\n",
      "\u001b[?25hRequirement already satisfied: python-dateutil>=2.7.3 in ./.pyenv/versions/3.6.5/lib/python3.6/site-packages (from pandas) (2.8.1)\n",
      "Collecting numpy>=1.15.4\n",
      "  Downloading numpy-1.19.5-cp36-cp36m-macosx_10_9_x86_64.whl (15.6 MB)\n",
      "\u001b[K     |████████████████████████████████| 15.6 MB 19.4 MB/s eta 0:00:01\n",
      "\u001b[?25hRequirement already satisfied: six>=1.5 in ./.pyenv/versions/3.6.5/lib/python3.6/site-packages (from python-dateutil>=2.7.3->pandas) (1.15.0)\n",
      "Installing collected packages: pytz, numpy, pandas\n",
      "Successfully installed numpy-1.19.5 pandas-1.1.5 pytz-2021.1\n",
      "Note: you may need to restart the kernel to use updated packages.\n"
     ]
    }
   ],
   "source": [
    "pip install pandas"
   ]
  },
  {
   "cell_type": "code",
   "execution_count": 4,
   "id": "remarkable-technician",
   "metadata": {},
   "outputs": [
    {
     "name": "stdout",
     "output_type": "stream",
     "text": [
      "Requirement already satisfied: numpy in ./.pyenv/versions/3.6.5/lib/python3.6/site-packages (1.19.5)\n",
      "Note: you may need to restart the kernel to use updated packages.\n"
     ]
    }
   ],
   "source": [
    "pip install numpy"
   ]
  },
  {
   "cell_type": "code",
   "execution_count": 5,
   "id": "spanish-islam",
   "metadata": {},
   "outputs": [],
   "source": [
    "import pandas as pd\n",
    "import numpy as np"
   ]
  },
  {
   "cell_type": "code",
   "execution_count": 15,
   "id": "incoming-patient",
   "metadata": {},
   "outputs": [],
   "source": [
    "data_to_load = '/Users/ahmed/LeanTaas.csv'"
   ]
  },
  {
   "cell_type": "code",
   "execution_count": 16,
   "id": "burning-gates",
   "metadata": {},
   "outputs": [],
   "source": [
    "infusion_df = pd.read_csv(data_to_load)"
   ]
  },
  {
   "cell_type": "code",
   "execution_count": 19,
   "id": "twelve-sperm",
   "metadata": {},
   "outputs": [
    {
     "data": {
      "text/html": [
       "<div>\n",
       "<style scoped>\n",
       "    .dataframe tbody tr th:only-of-type {\n",
       "        vertical-align: middle;\n",
       "    }\n",
       "\n",
       "    .dataframe tbody tr th {\n",
       "        vertical-align: top;\n",
       "    }\n",
       "\n",
       "    .dataframe thead th {\n",
       "        text-align: right;\n",
       "    }\n",
       "</style>\n",
       "<table border=\"1\" class=\"dataframe\">\n",
       "  <thead>\n",
       "    <tr style=\"text-align: right;\">\n",
       "      <th></th>\n",
       "      <th>UNIT_NAME</th>\n",
       "      <th>VISIT_TYPE</th>\n",
       "      <th>APPT_STATUS</th>\n",
       "      <th>APPT_TIME</th>\n",
       "      <th>CLINIC_PROVIDER</th>\n",
       "      <th>CHECKIN_TIME</th>\n",
       "      <th>TIME_IN_CHAIR</th>\n",
       "      <th>TIME_OUT_CHAIR</th>\n",
       "      <th>CHECKOUT_TIME</th>\n",
       "      <th>SAME_DAY_APPT</th>\n",
       "      <th>SAME_DAY_CANCEL</th>\n",
       "    </tr>\n",
       "  </thead>\n",
       "  <tbody>\n",
       "    <tr>\n",
       "      <th>0</th>\n",
       "      <td>CLINIC UNIT 1</td>\n",
       "      <td>OFFICE VISIT</td>\n",
       "      <td>Completed</td>\n",
       "      <td>10/13/17 8:45</td>\n",
       "      <td>MARCOS, GEORGETTE MD</td>\n",
       "      <td>10/13/17 8:57</td>\n",
       "      <td>NaN</td>\n",
       "      <td>NaN</td>\n",
       "      <td>10/13/17 10:43</td>\n",
       "      <td>N</td>\n",
       "      <td>N</td>\n",
       "    </tr>\n",
       "    <tr>\n",
       "      <th>1</th>\n",
       "      <td>CLINIC UNIT 1</td>\n",
       "      <td>OFFICE VISIT</td>\n",
       "      <td>Completed</td>\n",
       "      <td>10/13/17 8:30</td>\n",
       "      <td>PIERCE, KAITLIN MD</td>\n",
       "      <td>10/13/17 8:25</td>\n",
       "      <td>NaN</td>\n",
       "      <td>NaN</td>\n",
       "      <td>10/13/17 9:35</td>\n",
       "      <td>N</td>\n",
       "      <td>N</td>\n",
       "    </tr>\n",
       "    <tr>\n",
       "      <th>2</th>\n",
       "      <td>CLINIC UNIT 1</td>\n",
       "      <td>OFFICE VISIT</td>\n",
       "      <td>Canceled</td>\n",
       "      <td>10/13/17 7:45</td>\n",
       "      <td>XU, JAMES MD</td>\n",
       "      <td>NaN</td>\n",
       "      <td>NaN</td>\n",
       "      <td>NaN</td>\n",
       "      <td>NaN</td>\n",
       "      <td>N</td>\n",
       "      <td>N</td>\n",
       "    </tr>\n",
       "    <tr>\n",
       "      <th>3</th>\n",
       "      <td>CLINIC UNIT 1</td>\n",
       "      <td>OFFICE VISIT</td>\n",
       "      <td>Completed</td>\n",
       "      <td>10/13/17 7:15</td>\n",
       "      <td>XU, JAMES MD</td>\n",
       "      <td>10/13/17 8:10</td>\n",
       "      <td>NaN</td>\n",
       "      <td>NaN</td>\n",
       "      <td>10/13/17 8:26</td>\n",
       "      <td>N</td>\n",
       "      <td>N</td>\n",
       "    </tr>\n",
       "    <tr>\n",
       "      <th>4</th>\n",
       "      <td>INFUSION UNIT 1</td>\n",
       "      <td>NON-CHEMO INFUSION</td>\n",
       "      <td>Completed</td>\n",
       "      <td>10/13/17 15:00</td>\n",
       "      <td>ANDREWS, VICTORIA MD</td>\n",
       "      <td>10/13/17 16:45</td>\n",
       "      <td>10/13/17 16:57</td>\n",
       "      <td>10/13/17 16:56</td>\n",
       "      <td>10/13/17 16:57</td>\n",
       "      <td>N</td>\n",
       "      <td>N</td>\n",
       "    </tr>\n",
       "  </tbody>\n",
       "</table>\n",
       "</div>"
      ],
      "text/plain": [
       "         UNIT_NAME          VISIT_TYPE APPT_STATUS       APPT_TIME  \\\n",
       "0    CLINIC UNIT 1        OFFICE VISIT   Completed   10/13/17 8:45   \n",
       "1    CLINIC UNIT 1        OFFICE VISIT   Completed   10/13/17 8:30   \n",
       "2    CLINIC UNIT 1        OFFICE VISIT    Canceled   10/13/17 7:45   \n",
       "3    CLINIC UNIT 1        OFFICE VISIT   Completed   10/13/17 7:15   \n",
       "4  INFUSION UNIT 1  NON-CHEMO INFUSION   Completed  10/13/17 15:00   \n",
       "\n",
       "        CLINIC_PROVIDER    CHECKIN_TIME   TIME_IN_CHAIR  TIME_OUT_CHAIR  \\\n",
       "0  MARCOS, GEORGETTE MD   10/13/17 8:57             NaN             NaN   \n",
       "1    PIERCE, KAITLIN MD   10/13/17 8:25             NaN             NaN   \n",
       "2          XU, JAMES MD             NaN             NaN             NaN   \n",
       "3          XU, JAMES MD   10/13/17 8:10             NaN             NaN   \n",
       "4  ANDREWS, VICTORIA MD  10/13/17 16:45  10/13/17 16:57  10/13/17 16:56   \n",
       "\n",
       "    CHECKOUT_TIME SAME_DAY_APPT SAME_DAY_CANCEL  \n",
       "0  10/13/17 10:43             N               N  \n",
       "1   10/13/17 9:35             N               N  \n",
       "2             NaN             N               N  \n",
       "3   10/13/17 8:26             N               N  \n",
       "4  10/13/17 16:57             N               N  "
      ]
     },
     "execution_count": 19,
     "metadata": {},
     "output_type": "execute_result"
    }
   ],
   "source": [
    "infusion_df.head()"
   ]
  },
  {
   "cell_type": "code",
   "execution_count": 20,
   "id": "violent-evolution",
   "metadata": {},
   "outputs": [
    {
     "name": "stdout",
     "output_type": "stream",
     "text": [
      "<class 'pandas.core.frame.DataFrame'>\n",
      "RangeIndex: 502 entries, 0 to 501\n",
      "Data columns (total 11 columns):\n",
      " #   Column           Non-Null Count  Dtype \n",
      "---  ------           --------------  ----- \n",
      " 0   UNIT_NAME        502 non-null    object\n",
      " 1   VISIT_TYPE       502 non-null    object\n",
      " 2   APPT_STATUS      502 non-null    object\n",
      " 3   APPT_TIME        502 non-null    object\n",
      " 4   CLINIC_PROVIDER  502 non-null    object\n",
      " 5   CHECKIN_TIME     329 non-null    object\n",
      " 6   TIME_IN_CHAIR    245 non-null    object\n",
      " 7   TIME_OUT_CHAIR   236 non-null    object\n",
      " 8   CHECKOUT_TIME    342 non-null    object\n",
      " 9   SAME_DAY_APPT    502 non-null    object\n",
      " 10  SAME_DAY_CANCEL  502 non-null    object\n",
      "dtypes: object(11)\n",
      "memory usage: 43.3+ KB\n"
     ]
    }
   ],
   "source": [
    "# Determine data type of each row\n",
    "infusion_df.info()"
   ]
  },
  {
   "cell_type": "code",
   "execution_count": 23,
   "id": "powerful-cancellation",
   "metadata": {},
   "outputs": [
    {
     "data": {
      "text/plain": [
       "UNIT_NAME            0\n",
       "VISIT_TYPE           0\n",
       "APPT_STATUS          0\n",
       "APPT_TIME            0\n",
       "CLINIC_PROVIDER      0\n",
       "CHECKIN_TIME       173\n",
       "TIME_IN_CHAIR      257\n",
       "TIME_OUT_CHAIR     266\n",
       "CHECKOUT_TIME      160\n",
       "SAME_DAY_APPT        0\n",
       "SAME_DAY_CANCEL      0\n",
       "dtype: int64"
      ]
     },
     "execution_count": 23,
     "metadata": {},
     "output_type": "execute_result"
    }
   ],
   "source": [
    "# Convert \n",
    "\n",
    "infusion_df.isnull().sum()"
   ]
  },
  {
   "cell_type": "code",
   "execution_count": null,
   "id": "impossible-street",
   "metadata": {},
   "outputs": [],
   "source": []
  }
 ],
 "metadata": {
  "kernelspec": {
   "display_name": "Python 3",
   "language": "python",
   "name": "python3"
  },
  "language_info": {
   "codemirror_mode": {
    "name": "ipython",
    "version": 3
   },
   "file_extension": ".py",
   "mimetype": "text/x-python",
   "name": "python",
   "nbconvert_exporter": "python",
   "pygments_lexer": "ipython3",
   "version": "3.6.5"
  }
 },
 "nbformat": 4,
 "nbformat_minor": 5
}
